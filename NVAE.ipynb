{
 "cells": [
  {
   "cell_type": "code",
   "execution_count": null,
   "metadata": {},
   "outputs": [],
   "source": [
    "import argparse\n",
    "import logging\n",
    "import os\n",
    "import time\n",
    "\n",
    "import matplotlib.pyplot as plt\n",
    "import numpy as np\n",
    "import torch\n",
    "from torch.utils.data import DataLoader\n",
    "from tqdm import tqdm\n",
    "\n",
    "from nvae.dataset import ImageFolderDataset\n",
    "from nvae.utils import add_sn\n",
    "from nvae.vae_celeba import NVAE"
   ]
  },
  {
   "cell_type": "code",
   "execution_count": null,
   "metadata": {},
   "outputs": [],
   "source": [
    "seed = 975\n",
    "torch.manual_seed(seed)"
   ]
  },
  {
   "cell_type": "code",
   "execution_count": null,
   "metadata": {},
   "outputs": [],
   "source": [
    "device = torch.device(\"cuda\")\n",
    "device"
   ]
  },
  {
   "cell_type": "code",
   "execution_count": null,
   "metadata": {},
   "outputs": [],
   "source": [
    "class WarmupKLLoss:\n",
    "\n",
    "    def __init__(self, init_weights, steps,\n",
    "                 M_N=0.005,\n",
    "                 eta_M_N=1e-5,\n",
    "                 M_N_decay_step=3000):\n",
    "        \n",
    "        self.init_weights = init_weights\n",
    "        self.M_N = M_N\n",
    "        self.eta_M_N = eta_M_N\n",
    "        self.M_N_decay_step = M_N_decay_step\n",
    "        self.speeds = [(1. - w) / s for w, s in zip(init_weights, steps)]\n",
    "        self.steps = np.cumsum(steps)\n",
    "        self.stage = 0\n",
    "        self._ready_start_step = 0\n",
    "        self._ready_for_M_N = False\n",
    "        self._M_N_decay_speed = (self.M_N - self.eta_M_N) / self.M_N_decay_step\n",
    "\n",
    "    def _get_stage(self, step):\n",
    "        while True:\n",
    "\n",
    "            if self.stage > len(self.steps) - 1:\n",
    "                break\n",
    "\n",
    "            if step <= self.steps[self.stage]:\n",
    "                return self.stage\n",
    "            else:\n",
    "                self.stage += 1\n",
    "\n",
    "        return self.stage\n",
    "\n",
    "    def get_loss(self, step, losses):\n",
    "        loss = 0.\n",
    "        stage = self._get_stage(step)\n",
    "\n",
    "        for i, l in enumerate(losses):\n",
    "            # Update weights\n",
    "            if i == stage:\n",
    "                speed = self.speeds[stage]\n",
    "                t = step if stage == 0 else step - self.steps[stage - 1]\n",
    "                w = min(self.init_weights[i] + speed * t, 1.)\n",
    "            elif i < stage:\n",
    "                w = 1.\n",
    "            else:\n",
    "                w = self.init_weights[i]\n",
    "\n",
    "            if self._ready_for_M_N == False and i == len(losses) - 1 and w == 1.:\n",
    "                self._ready_for_M_N = True\n",
    "                self._ready_start_step = step\n",
    "            l = losses[i] * w\n",
    "            loss += l\n",
    "\n",
    "        if self._ready_for_M_N:\n",
    "            M_N = max(self.M_N - self._M_N_decay_speed *\n",
    "                      (step - self._ready_start_step), self.eta_M_N)\n",
    "        else:\n",
    "            M_N = self.M_N\n",
    "\n",
    "        return M_N * loss"
   ]
  },
  {
   "cell_type": "code",
   "execution_count": null,
   "metadata": {},
   "outputs": [],
   "source": [
    "epochs = 400\n",
    "batch_size = 128\n",
    "dataset_path = '../../data/celeba_64/'\n",
    "# pretrained_weights = \n",
    "n_cpu = 0\n",
    "lr = 0.01"
   ]
  },
  {
   "cell_type": "code",
   "execution_count": null,
   "metadata": {},
   "outputs": [],
   "source": [
    "model = NVAE(z_dim=512, img_dim=(64, 64))\n",
    "# apply Spectral Normalization\n",
    "model.apply(add_sn)\n",
    "\n",
    "model.to(device)\n",
    "\n",
    "# if pretrained_weights:\n",
    "#     model.load_state_dict(torch.load(pretrained_weights, map_location=device), strict=False)"
   ]
  },
  {
   "cell_type": "code",
   "execution_count": null,
   "metadata": {},
   "outputs": [],
   "source": [
    "path = '../../data/pth/nvae_64_checkpoint.pth'\n",
    "try:\n",
    "    model.load_state_dict(torch.load(path))\n",
    "    print(\"Load\")\n",
    "except FileNotFoundError:\n",
    "    print(\"No checkpoint found\")"
   ]
  },
  {
   "cell_type": "code",
   "execution_count": null,
   "metadata": {},
   "outputs": [],
   "source": [
    "# if __name__ == '__main__':\n",
    "\n",
    "#     train_ds = ImageFolderDataset(dataset_path, img_dim=64)\n",
    "#     train_dataloader = DataLoader(train_ds, batch_size=batch_size, shuffle=True, num_workers=n_cpu)\n",
    "\n",
    "#     # if pretrained_weights:\n",
    "#     #     model.load_state_dict(torch.load(pretrained_weights, map_location=device), strict=False)\n",
    "\n",
    "#     warmup_kl = WarmupKLLoss(init_weights=[1., 1. / 2, 1. / 8],\n",
    "#                              steps=[4500, 3000, 1500],\n",
    "#                              M_N=batch_size / len(train_ds),\n",
    "#                              eta_M_N=5e-6,\n",
    "#                              M_N_decay_step=36000)\n",
    "#     print('M_N=', warmup_kl.M_N, 'ETA_M_N=', warmup_kl.eta_M_N)\n",
    "\n",
    "#     optimizer = torch.optim.Adamax(model.parameters(), lr=0.01)\n",
    "#     scheduler = torch.optim.lr_scheduler.CosineAnnealingLR(optimizer, T_max=15, eta_min=1e-4)\n",
    "\n",
    "#     step = 0\n",
    "#     for epoch in tqdm(range(epochs)):\n",
    "#         model.train()\n",
    "        \n",
    "#         for i, image in enumerate(train_dataloader):\n",
    "#             optimizer.zero_grad()\n",
    "\n",
    "#             image = image.to(device)\n",
    "#             image_recon, recon_loss, kl_losses = model(image)\n",
    "#             kl_loss = warmup_kl.get_loss(step, kl_losses)\n",
    "#             loss = recon_loss + kl_loss\n",
    "\n",
    "#             loss.backward()\n",
    "#             optimizer.step()\n",
    "\n",
    "#             step += 1\n",
    "\n",
    "#         scheduler.step()\n",
    "#         torch.save(model.state_dict(), path)\n",
    "        \n",
    "#         with torch.no_grad():\n",
    "#             z = torch.randn((1, 512, 2, 2)).to(device)\n",
    "#             gen_img, _ = model.decoder(z)\n",
    "#             gen_img = gen_img.permute(0, 2, 3, 1)\n",
    "#             gen_img = gen_img[0].cpu().numpy() * 255\n",
    "#             gen_img = gen_img.astype(np.uint8)\n",
    "\n",
    "#             plt.imshow(gen_img)\n",
    "#             plt.show()\n",
    "                    \n",
    "#         print(f'Epoch [{epoch+1}/{epochs}], Average Loss: {loss.item():.4f}')"
   ]
  },
  {
   "cell_type": "code",
   "execution_count": 30,
   "metadata": {},
   "outputs": [
    {
     "data": {
      "image/png": "[encoded data removed]",
      "text/plain": [
       "<Figure size 640x480 with 1 Axes>"
      ]
     },
     "metadata": {},
     "output_type": "display_data"
    }
   ],
   "source": [
    "def show_images(model):\n",
    "    model.eval()\n",
    "    with torch.no_grad():\n",
    "            z = torch.randn((1, 512, 2, 2)).to(device)\n",
    "            gen_img, _ = model.decoder(z)\n",
    "            gen_img = gen_img.permute(0, 2, 3, 1)\n",
    "            gen_img = gen_img[0].cpu().numpy() * 255\n",
    "            gen_img = gen_img.astype(np.uint8)\n",
    "\n",
    "            plt.imshow(gen_img)\n",
    "            plt.show()\n",
    "            \n",
    "show_images(model)\n",
    "# print(f'Loss: {loss.item():.4f}')"
   ]
  }
 ],
 "metadata": {
  "kernelspec": {
   "display_name": "pytorch",
   "language": "python",
   "name": "python3"
  },
  "language_info": {
   "codemirror_mode": {
    "name": "ipython",
    "version": 3
   },
   "file_extension": ".py",
   "mimetype": "text/x-python",
   "name": "python",
   "nbconvert_exporter": "python",
   "pygments_lexer": "ipython3",
   "version": "3.8.18"
  }
 },
 "nbformat": 4,
 "nbformat_minor": 2
}
